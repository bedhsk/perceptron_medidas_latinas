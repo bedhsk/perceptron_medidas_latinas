{
 "cells": [
  {
   "cell_type": "markdown",
   "id": "7b5941a4-cd26-4b2a-a465-7783adead1af",
   "metadata": {},
   "source": [
    "# Perceptrón de clasificación - Medidas en personas latinas"
   ]
  },
  {
   "cell_type": "code",
   "execution_count": 1,
   "id": "46550cab-dad7-4731-9371-6e5674182a1b",
   "metadata": {},
   "outputs": [],
   "source": [
    "import matplotlib as plt\n",
    "import pandas as pd\n",
    "import random\n",
    "import sys"
   ]
  },
  {
   "cell_type": "code",
   "execution_count": 2,
   "id": "09b0488d-3619-44b3-a1c6-1a236ce24025",
   "metadata": {},
   "outputs": [],
   "source": [
    "class Perceptron:\n",
    "    def __init__(self, input_number, step_size=0.1):\n",
    "        self._ins = input_number\n",
    "        self._w = [random.random() for _ in range(input_number)]\n",
    "        self._eta = step_size\n",
    "        \n",
    "    \n",
    "    def predict(self, inputs):\n",
    "        calculo = sum(w * entrada for w, entrada in zip(self._w, inputs))\n",
    "        if calculo > 0:\n",
    "            return 1\n",
    "        return 0\n",
    "    \n",
    "    \n",
    "    def train(self, inputs, ex_output):\n",
    "        output = self.predict(inputs)\n",
    "        error = ex_output - output\n",
    "        if error != 0:\n",
    "            self._w = [w+self._eta*error*x for w, x in zip(self._w, inputs)]\n",
    "        return error\n",
    "            \n",
    "    def w(self):\n",
    "        return self._w"
   ]
  },
  {
   "cell_type": "markdown",
   "id": "0cef94c4-9279-470d-92dd-e2ee99c50ee8",
   "metadata": {},
   "source": [
    "## Carga de datos"
   ]
  },
  {
   "cell_type": "code",
   "execution_count": 3,
   "id": "c96c79fc-683b-43e9-9e85-4e4331add746",
   "metadata": {},
   "outputs": [],
   "source": [
    "datacv = pd.read_csv(\"antropo-latinos.csv\")"
   ]
  },
  {
   "cell_type": "code",
   "execution_count": 4,
   "id": "bfb03cc0-af42-4c64-b91b-dd96e6a65b73",
   "metadata": {},
   "outputs": [],
   "source": [
    "dataA = datacv.copy()\n",
    "dataA['peso'] = datacv['estatura']\n",
    "dataA['estatura'] = datacv['peso']\n",
    "dataA.columns = ['estatura', 'peso', 'sexo']"
   ]
  },
  {
   "cell_type": "code",
   "execution_count": 5,
   "id": "db79a073-9fec-42c1-b5a6-47e6640f242d",
   "metadata": {},
   "outputs": [],
   "source": [
    "data = dataA.values.tolist()"
   ]
  },
  {
   "cell_type": "code",
   "execution_count": 6,
   "id": "862ada87-720f-4d9a-b3a0-b81a665b1190",
   "metadata": {},
   "outputs": [],
   "source": [
    "pr = Perceptron(3,0.1)\n",
    "#Lista de pesos inicial\n",
    "weights = []\n",
    "# lista de errores inicial\n",
    "errores = []"
   ]
  },
  {
   "cell_type": "code",
   "execution_count": 7,
   "id": "07b0f0d9-1fb3-4e79-aac7-d5977127966a",
   "metadata": {},
   "outputs": [],
   "source": [
    "# fase de entrenamiento\n",
    "for _ in range(100):\n",
    "    for persona in data:\n",
    "        # la salida es la variable sexo (ultimo dato de la lista)\n",
    "        output = persona[-1]\n",
    "        # bias +x1 + x2 + ...\n",
    "        inp = [1] + persona[0:-1]\n",
    "        weights.append(pr.w)\n",
    "        err = pr.train(inp, output)\n",
    "        errores.append(err)"
   ]
  },
  {
   "cell_type": "code",
   "execution_count": 8,
   "id": "e7667df6-cd1d-4afd-b4f5-6cfabd3fc470",
   "metadata": {},
   "outputs": [],
   "source": [
    "# valores para evaluar la respuesta del perceptron\n",
    "estatura = 1.70\n",
    "peso = 71.0"
   ]
  },
  {
   "cell_type": "code",
   "execution_count": 9,
   "id": "9b116ed1-f0af-4d46-8776-0f6d187428bb",
   "metadata": {},
   "outputs": [
    {
     "name": "stdout",
     "output_type": "stream",
     "text": [
      "Hombre\n"
     ]
    }
   ],
   "source": [
    "if pr.predict([1, estatura, peso]) == 1:\n",
    "    print('Mujer')\n",
    "else:\n",
    "    print('Hombre')"
   ]
  },
  {
   "cell_type": "code",
   "execution_count": null,
   "id": "74ddb38f-26d8-4f6d-bea7-4b12243c2f0d",
   "metadata": {},
   "outputs": [],
   "source": []
  }
 ],
 "metadata": {
  "kernelspec": {
   "display_name": "Python 3 (ipykernel)",
   "language": "python",
   "name": "python3"
  },
  "language_info": {
   "codemirror_mode": {
    "name": "ipython",
    "version": 3
   },
   "file_extension": ".py",
   "mimetype": "text/x-python",
   "name": "python",
   "nbconvert_exporter": "python",
   "pygments_lexer": "ipython3",
   "version": "3.11.1"
  }
 },
 "nbformat": 4,
 "nbformat_minor": 5
}
